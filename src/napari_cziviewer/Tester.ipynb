{
 "cells": [
  {
   "cell_type": "code",
   "execution_count": 1,
   "metadata": {},
   "outputs": [],
   "source": [
    "import pandas as pd\n",
    "import numpy as np\n",
    "import napari\n",
    "import czifile\n",
    "import glob\n",
    "import napari\n",
    "import skimage as ski\n",
    "import xml.etree.ElementTree as ET\n",
    "from __cziviewer import Czi_Viewer"
   ]
  },
  {
   "cell_type": "code",
   "execution_count": 2,
   "metadata": {},
   "outputs": [],
   "source": [
    "viewer = napari.Viewer()"
   ]
  },
  {
   "cell_type": "code",
   "execution_count": 3,
   "metadata": {},
   "outputs": [],
   "source": [
    "czi_viewer = Czi_Viewer(viewer)"
   ]
  },
  {
   "cell_type": "code",
   "execution_count": 4,
   "metadata": {},
   "outputs": [],
   "source": [
    "root_dir = r'S:\\micro\\TJK\\BrainSlices\\Human20240110\\Entorhinal_LSM980' + '/'\n",
    "overview = glob.glob(root_dir+'*Overview*')[0]\n",
    "fnames = glob.glob(root_dir + '*63*.czi')"
   ]
  },
  {
   "cell_type": "code",
   "execution_count": 5,
   "metadata": {},
   "outputs": [
    {
     "name": "stderr",
     "output_type": "stream",
     "text": [
      "c:\\Users\\smc\\AppData\\Local\\miniforge3\\envs\\napari\\lib\\site-packages\\napari\\_vispy\\layers\\image.py:274: UserWarning: data shape (33513, 40164) exceeds GL_MAX_TEXTURE_SIZE 32768 in at least one axis and will be downsampled. Rendering is currently in 2D mode.\n",
      "  warnings.warn(\n",
      "c:\\Users\\smc\\AppData\\Local\\miniforge3\\envs\\napari\\lib\\site-packages\\napari\\_vispy\\layers\\image.py:274: UserWarning: data shape (33513, 40164) exceeds GL_MAX_TEXTURE_SIZE 32768 in at least one axis and will be downsampled. Rendering is currently in 2D mode.\n",
      "  warnings.warn(\n",
      "c:\\Users\\smc\\AppData\\Local\\miniforge3\\envs\\napari\\lib\\site-packages\\napari\\_vispy\\layers\\image.py:274: UserWarning: data shape (33513, 40164) exceeds GL_MAX_TEXTURE_SIZE 32768 in at least one axis and will be downsampled. Rendering is currently in 2D mode.\n",
      "  warnings.warn(\n",
      "c:\\Users\\smc\\AppData\\Local\\miniforge3\\envs\\napari\\lib\\site-packages\\napari\\_vispy\\layers\\image.py:274: UserWarning: data shape (33513, 40164) exceeds GL_MAX_TEXTURE_SIZE 32768 in at least one axis and will be downsampled. Rendering is currently in 2D mode.\n",
      "  warnings.warn(\n"
     ]
    }
   ],
   "source": [
    "czi_viewer.load_overview(overview)"
   ]
  },
  {
   "cell_type": "code",
   "execution_count": 7,
   "metadata": {},
   "outputs": [
    {
     "name": "stdout",
     "output_type": "stream",
     "text": [
      "S:\\micro\\TJK\\BrainSlices\\Human20240110\\Entorhinal_LSM980\\63x_HumanBrain_MotorCortex_P62_LC3B_Map2a_Dapi_01_EC_Region01_01.czi\n"
     ]
    }
   ],
   "source": [
    "czi_viewer.load_zoom(fnames[0], composite=True, name='HokeyWeapons')"
   ]
  },
  {
   "cell_type": "code",
   "execution_count": 7,
   "metadata": {},
   "outputs": [
    {
     "name": "stdout",
     "output_type": "stream",
     "text": [
      "S:\\micro\\TJK\\BrainSlices\\Human20240110\\Entorhinal_LSM980\\63x_HumanBrain_MotorCortex_P62_LC3B_Map2a_Dapi_01_EC_Region01_01.czi\n",
      "S:\\micro\\TJK\\BrainSlices\\Human20240110\\Entorhinal_LSM980\\63x_HumanBrain_MotorCortex_P62_LC3B_Map2a_Dapi_01_EC_Region01_02.czi\n",
      "S:\\micro\\TJK\\BrainSlices\\Human20240110\\Entorhinal_LSM980\\63x_HumanBrain_MotorCortex_P62_LC3B_Map2a_Dapi_01_EC_Region02_01.czi\n",
      "S:\\micro\\TJK\\BrainSlices\\Human20240110\\Entorhinal_LSM980\\63x_HumanBrain_MotorCortex_P62_LC3B_Map2a_Dapi_01_EC_Region02_02.czi\n",
      "S:\\micro\\TJK\\BrainSlices\\Human20240110\\Entorhinal_LSM980\\63x_HumanBrain_MotorCortex_P62_LC3B_Map2a_Dapi_01_EC_Region03_01.czi\n",
      "S:\\micro\\TJK\\BrainSlices\\Human20240110\\Entorhinal_LSM980\\63x_HumanBrain_MotorCortex_P62_LC3B_Map2a_Dapi_01_EC_Region03_02.czi\n",
      "S:\\micro\\TJK\\BrainSlices\\Human20240110\\Entorhinal_LSM980\\63x_HumanBrain_MotorCortex_P62_LC3B_Map2a_Dapi_01_Fusiform_01.czi\n",
      "S:\\micro\\TJK\\BrainSlices\\Human20240110\\Entorhinal_LSM980\\63x_HumanBrain_MotorCortex_P62_LC3B_Map2a_Dapi_01_Fusiform_02.czi\n",
      "S:\\micro\\TJK\\BrainSlices\\Human20240110\\Entorhinal_LSM980\\63x_HumanBrain_MotorCortex_P62_LC3B_Map2a_Dapi_01_HC_Region01_01.czi\n",
      "S:\\micro\\TJK\\BrainSlices\\Human20240110\\Entorhinal_LSM980\\63x_HumanBrain_MotorCortex_P62_LC3B_Map2a_Dapi_01_HC_Region01_02.czi\n",
      "S:\\micro\\TJK\\BrainSlices\\Human20240110\\Entorhinal_LSM980\\63x_HumanBrain_MotorCortex_P62_LC3B_Map2a_Dapi_01_HC_Region02_01.czi\n",
      "S:\\micro\\TJK\\BrainSlices\\Human20240110\\Entorhinal_LSM980\\63x_HumanBrain_MotorCortex_P62_LC3B_Map2a_Dapi_01_HC_Region02_02.czi\n",
      "S:\\micro\\TJK\\BrainSlices\\Human20240110\\Entorhinal_LSM980\\63x_HumanBrain_MotorCortex_P62_LC3B_Map2a_Dapi_01_HC_Region03_01.czi\n",
      "S:\\micro\\TJK\\BrainSlices\\Human20240110\\Entorhinal_LSM980\\63x_HumanBrain_MotorCortex_P62_LC3B_Map2a_Dapi_01_HC_Region03_02.czi\n",
      "S:\\micro\\TJK\\BrainSlices\\Human20240110\\Entorhinal_LSM980\\63x_HumanBrain_MotorCortex_P62_LC3B_Map2a_Dapi_01_HC_Region04_01.czi\n",
      "S:\\micro\\TJK\\BrainSlices\\Human20240110\\Entorhinal_LSM980\\63x_HumanBrain_MotorCortex_P62_LC3B_Map2a_Dapi_01_HC_Region04_02.czi\n",
      "S:\\micro\\TJK\\BrainSlices\\Human20240110\\Entorhinal_LSM980\\63x_HumanBrain_MotorCortex_P62_LC3B_Map2a_Dapi_01_LeftofHC_01.czi\n",
      "S:\\micro\\TJK\\BrainSlices\\Human20240110\\Entorhinal_LSM980\\63x_HumanBrain_MotorCortex_P62_LC3B_Map2a_Dapi_01_LeftofHC_02.czi\n"
     ]
    }
   ],
   "source": [
    "for f in fnames:\n",
    "    czi_viewer.load_zoom(f, composite=True)"
   ]
  },
  {
   "cell_type": "code",
   "execution_count": 8,
   "metadata": {},
   "outputs": [
    {
     "data": {
      "text/plain": [
       "'63x_HumanBrain_MotorCortex_P62_LC3B_Map2a_Dapi_01_LeftofHC_02.czi [3]'"
      ]
     },
     "execution_count": 8,
     "metadata": {},
     "output_type": "execute_result"
    }
   ],
   "source": [
    "viewer.layers.selection.active.name"
   ]
  },
  {
   "cell_type": "code",
   "execution_count": 9,
   "metadata": {},
   "outputs": [
    {
     "name": "stderr",
     "output_type": "stream",
     "text": [
      "c:\\Users\\smc\\AppData\\Local\\miniforge3\\envs\\napari\\lib\\site-packages\\napari\\_vispy\\layers\\image.py:274: UserWarning: data shape (33513, 40164) exceeds GL_MAX_TEXTURE_SIZE 32768 in at least one axis and will be downsampled. Rendering is currently in 2D mode.\n",
      "  warnings.warn(\n"
     ]
    }
   ],
   "source": [
    "current_layer = viewer.layers.selection.active.name\n",
    "czi_viewer.focus_on(viewer.layers[current_layer])"
   ]
  },
  {
   "cell_type": "code",
   "execution_count": null,
   "metadata": {},
   "outputs": [],
   "source": []
  }
 ],
 "metadata": {
  "kernelspec": {
   "display_name": "napari",
   "language": "python",
   "name": "python3"
  },
  "language_info": {
   "codemirror_mode": {
    "name": "ipython",
    "version": 3
   },
   "file_extension": ".py",
   "mimetype": "text/x-python",
   "name": "python",
   "nbconvert_exporter": "python",
   "pygments_lexer": "ipython3",
   "version": "3.10.13"
  }
 },
 "nbformat": 4,
 "nbformat_minor": 2
}
