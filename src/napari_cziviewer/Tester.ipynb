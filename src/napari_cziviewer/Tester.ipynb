{
 "cells": [
  {
   "cell_type": "code",
   "execution_count": 1,
   "metadata": {},
   "outputs": [],
   "source": [
    "import pandas as pd\n",
    "import numpy as np\n",
    "import napari\n",
    "import czifile\n",
    "import glob\n",
    "import napari\n",
    "import skimage as ski\n",
    "import xml.etree.ElementTree as ET\n",
    "from _cziviewer import CziViewer"
   ]
  },
  {
   "cell_type": "code",
   "execution_count": 2,
   "metadata": {},
   "outputs": [],
   "source": [
    "viewer = napari.Viewer()"
   ]
  },
  {
   "cell_type": "code",
   "execution_count": 3,
   "metadata": {},
   "outputs": [],
   "source": [
    "czi_viewer = CziViewer(viewer)"
   ]
  },
  {
   "cell_type": "code",
   "execution_count": 4,
   "metadata": {},
   "outputs": [],
   "source": [
    "root_dir = r'S:\\micro\\TJK\\BrainSlices\\Human20240110\\Cerebellum_LSM980' + '/'\n",
    "overview = glob.glob(root_dir+'*Overview*')[0]\n",
    "fnames = glob.glob(root_dir + '*63*.czi')"
   ]
  },
  {
   "cell_type": "code",
   "execution_count": 5,
   "metadata": {},
   "outputs": [
    {
     "name": "stderr",
     "output_type": "stream",
     "text": [
      "c:\\Users\\smc\\AppData\\Local\\miniforge3\\envs\\napari\\lib\\site-packages\\napari\\_vispy\\layers\\image.py:274: UserWarning: data shape (35363, 43533) exceeds GL_MAX_TEXTURE_SIZE 32768 in at least one axis and will be downsampled. Rendering is currently in 2D mode.\n",
      "  warnings.warn(\n",
      "c:\\Users\\smc\\AppData\\Local\\miniforge3\\envs\\napari\\lib\\site-packages\\napari\\_vispy\\layers\\image.py:274: UserWarning: data shape (35363, 43533) exceeds GL_MAX_TEXTURE_SIZE 32768 in at least one axis and will be downsampled. Rendering is currently in 2D mode.\n",
      "  warnings.warn(\n",
      "c:\\Users\\smc\\AppData\\Local\\miniforge3\\envs\\napari\\lib\\site-packages\\napari\\_vispy\\layers\\image.py:274: UserWarning: data shape (35363, 43533) exceeds GL_MAX_TEXTURE_SIZE 32768 in at least one axis and will be downsampled. Rendering is currently in 2D mode.\n",
      "  warnings.warn(\n",
      "c:\\Users\\smc\\AppData\\Local\\miniforge3\\envs\\napari\\lib\\site-packages\\napari\\_vispy\\layers\\image.py:274: UserWarning: data shape (35363, 43533) exceeds GL_MAX_TEXTURE_SIZE 32768 in at least one axis and will be downsampled. Rendering is currently in 2D mode.\n",
      "  warnings.warn(\n",
      "c:\\Users\\smc\\AppData\\Local\\miniforge3\\envs\\napari\\lib\\site-packages\\napari\\_vispy\\layers\\image.py:274: UserWarning: data shape (35363, 43533) exceeds GL_MAX_TEXTURE_SIZE 32768 in at least one axis and will be downsampled. Rendering is currently in 2D mode.\n",
      "  warnings.warn(\n",
      "c:\\Users\\smc\\AppData\\Local\\miniforge3\\envs\\napari\\lib\\site-packages\\napari\\_vispy\\layers\\image.py:274: UserWarning: data shape (35363, 43533) exceeds GL_MAX_TEXTURE_SIZE 32768 in at least one axis and will be downsampled. Rendering is currently in 2D mode.\n",
      "  warnings.warn(\n"
     ]
    }
   ],
   "source": [
    "czi_viewer.load_overview(overview)"
   ]
  },
  {
   "cell_type": "markdown",
   "metadata": {},
   "source": [
    "# Testing"
   ]
  },
  {
   "cell_type": "markdown",
   "metadata": {},
   "source": [
    "If you make a shapes with a line tool, the following will measure distance"
   ]
  },
  {
   "cell_type": "markdown",
   "metadata": {},
   "source": [
    "pts = viewer.layers[-1].data[-1]\n",
    "distance = np.linalg.norm(pts[0]-pts[1])\n",
    "distance * viewer.layers[0].scale[-1]"
   ]
  },
  {
   "cell_type": "markdown",
   "metadata": {},
   "source": [
    "# End testing"
   ]
  },
  {
   "cell_type": "code",
   "execution_count": 6,
   "metadata": {},
   "outputs": [
    {
     "name": "stdout",
     "output_type": "stream",
     "text": [
      "S:\\micro\\TJK\\BrainSlices\\Human20240110\\Cerebellum_LSM980\\63x_HumanBrain_Cerebellum_P62_LC3B_Map2a_Dapi_CerebellarCortex_GranularLayer01.czi\n"
     ]
    }
   ],
   "source": [
    "czi_viewer.load_zoom(fnames[0], composite=True, name='HokeyWeapons')"
   ]
  },
  {
   "cell_type": "code",
   "execution_count": 7,
   "metadata": {},
   "outputs": [
    {
     "name": "stdout",
     "output_type": "stream",
     "text": [
      "S:\\micro\\TJK\\BrainSlices\\Human20240110\\Cerebellum_LSM980\\63x_HumanBrain_Cerebellum_P62_LC3B_Map2a_Dapi_CerebellarCortex_GranularLayer01.czi\n",
      "S:\\micro\\TJK\\BrainSlices\\Human20240110\\Cerebellum_LSM980\\63x_HumanBrain_Cerebellum_P62_LC3B_Map2a_Dapi_CerebellarCortex_GranularLayer02.czi\n",
      "S:\\micro\\TJK\\BrainSlices\\Human20240110\\Cerebellum_LSM980\\63x_HumanBrain_Cerebellum_P62_LC3B_Map2a_Dapi_CerebellarCortex_PurkinjieProjections01.czi\n",
      "S:\\micro\\TJK\\BrainSlices\\Human20240110\\Cerebellum_LSM980\\63x_HumanBrain_Cerebellum_P62_LC3B_Map2a_Dapi_CerebellarCortex_PurkinjieSoma01.czi\n"
     ]
    }
   ],
   "source": [
    "for f in fnames[0:4]:\n",
    "    czi_viewer.load_zoom(f, composite=True)"
   ]
  },
  {
   "cell_type": "code",
   "execution_count": 8,
   "metadata": {},
   "outputs": [
    {
     "name": "stderr",
     "output_type": "stream",
     "text": [
      "c:\\Users\\smc\\AppData\\Local\\miniforge3\\envs\\napari\\lib\\site-packages\\napari\\_vispy\\layers\\image.py:274: UserWarning: data shape (35363, 43533) exceeds GL_MAX_TEXTURE_SIZE 32768 in at least one axis and will be downsampled. Rendering is currently in 2D mode.\n",
      "  warnings.warn(\n"
     ]
    }
   ],
   "source": [
    "current_layer = viewer.layers.selection.active.name\n",
    "czi_viewer.focus_on(viewer.layers[current_layer])"
   ]
  },
  {
   "cell_type": "code",
   "execution_count": null,
   "metadata": {},
   "outputs": [],
   "source": []
  },
  {
   "cell_type": "code",
   "execution_count": 19,
   "metadata": {},
   "outputs": [],
   "source": []
  },
  {
   "cell_type": "code",
   "execution_count": null,
   "metadata": {},
   "outputs": [],
   "source": []
  }
 ],
 "metadata": {
  "kernelspec": {
   "display_name": "napari",
   "language": "python",
   "name": "python3"
  },
  "language_info": {
   "codemirror_mode": {
    "name": "ipython",
    "version": 3
   },
   "file_extension": ".py",
   "mimetype": "text/x-python",
   "name": "python",
   "nbconvert_exporter": "python",
   "pygments_lexer": "ipython3",
   "version": "3.10.13"
  }
 },
 "nbformat": 4,
 "nbformat_minor": 2
}
