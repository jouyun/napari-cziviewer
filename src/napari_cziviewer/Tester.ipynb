{
 "cells": [
  {
   "cell_type": "code",
   "execution_count": 1,
   "metadata": {},
   "outputs": [],
   "source": [
    "import pandas as pd\n",
    "import numpy as np\n",
    "import napari\n",
    "import czifile\n",
    "import glob\n",
    "import napari\n",
    "import skimage as ski\n",
    "import xml.etree.ElementTree as ET\n",
    "from _cziviewer import CziViewer"
   ]
  },
  {
   "cell_type": "code",
   "execution_count": 2,
   "metadata": {},
   "outputs": [],
   "source": [
    "viewer = napari.Viewer()"
   ]
  },
  {
   "cell_type": "code",
   "execution_count": 3,
   "metadata": {},
   "outputs": [],
   "source": [
    "czi_viewer = CziViewer(viewer)"
   ]
  },
  {
   "cell_type": "code",
   "execution_count": 4,
   "metadata": {},
   "outputs": [],
   "source": [
    "root_dir = r'S:\\micro\\ksi\\rb2676\\2023_HumanBrain_Map2A_Dapi_LC3B_P62_BrainSlices\\Human20240110_LSM980_FinalDataCollection\\Cerebellum_LSM980' + '/'\n",
    "overview = glob.glob(root_dir+'*Overview*')[0]\n",
    "fnames = glob.glob(root_dir + '*63*.czi')"
   ]
  },
  {
   "cell_type": "code",
   "execution_count": 5,
   "metadata": {},
   "outputs": [
    {
     "name": "stderr",
     "output_type": "stream",
     "text": [
      "c:\\Users\\smc\\AppData\\Local\\miniforge3\\envs\\napari\\lib\\site-packages\\napari\\_vispy\\layers\\image.py:274: UserWarning: data shape (35363, 43533) exceeds GL_MAX_TEXTURE_SIZE 32768 in at least one axis and will be downsampled. Rendering is currently in 2D mode.\n",
      "  warnings.warn(\n",
      "c:\\Users\\smc\\AppData\\Local\\miniforge3\\envs\\napari\\lib\\site-packages\\napari\\_vispy\\layers\\image.py:274: UserWarning: data shape (35363, 43533) exceeds GL_MAX_TEXTURE_SIZE 32768 in at least one axis and will be downsampled. Rendering is currently in 2D mode.\n",
      "  warnings.warn(\n",
      "c:\\Users\\smc\\AppData\\Local\\miniforge3\\envs\\napari\\lib\\site-packages\\napari\\_vispy\\layers\\image.py:274: UserWarning: data shape (35363, 43533) exceeds GL_MAX_TEXTURE_SIZE 32768 in at least one axis and will be downsampled. Rendering is currently in 2D mode.\n",
      "  warnings.warn(\n",
      "c:\\Users\\smc\\AppData\\Local\\miniforge3\\envs\\napari\\lib\\site-packages\\napari\\_vispy\\layers\\image.py:274: UserWarning: data shape (35363, 43533) exceeds GL_MAX_TEXTURE_SIZE 32768 in at least one axis and will be downsampled. Rendering is currently in 2D mode.\n",
      "  warnings.warn(\n",
      "c:\\Users\\smc\\AppData\\Local\\miniforge3\\envs\\napari\\lib\\site-packages\\napari\\_vispy\\layers\\image.py:274: UserWarning: data shape (35363, 43533) exceeds GL_MAX_TEXTURE_SIZE 32768 in at least one axis and will be downsampled. Rendering is currently in 2D mode.\n",
      "  warnings.warn(\n",
      "c:\\Users\\smc\\AppData\\Local\\miniforge3\\envs\\napari\\lib\\site-packages\\napari\\_vispy\\layers\\image.py:274: UserWarning: data shape (35363, 43533) exceeds GL_MAX_TEXTURE_SIZE 32768 in at least one axis and will be downsampled. Rendering is currently in 2D mode.\n",
      "  warnings.warn(\n"
     ]
    }
   ],
   "source": [
    "czi_viewer.load_overview(overview)"
   ]
  },
  {
   "cell_type": "markdown",
   "metadata": {},
   "source": [
    "# Testing"
   ]
  },
  {
   "cell_type": "code",
   "execution_count": 21,
   "metadata": {},
   "outputs": [
    {
     "name": "stdout",
     "output_type": "stream",
     "text": [
      "S:\\micro\\ksi\\rb2676\\2023_HumanBrain_Map2A_Dapi_LC3B_P62_BrainSlices\\Human20240110_LSM980_FinalDataCollection\\Cerebellum_LSM980\\63x_HumanBrain_Cerebellum_P62_LC3B_Map2a_Dapi_CerebellarCortex_GranularLayer01.czi\n"
     ]
    }
   ],
   "source": [
    "czi_viewer.load_zoom(fnames[0], composite=False, name='HokeyWeapons')"
   ]
  },
  {
   "cell_type": "code",
   "execution_count": 18,
   "metadata": {},
   "outputs": [
    {
     "name": "stdout",
     "output_type": "stream",
     "text": [
      "S:\\micro\\ksi\\rb2676\\2023_HumanBrain_Map2A_Dapi_LC3B_P62_BrainSlices\\Human20240110_LSM980_FinalDataCollection\\Cerebellum_LSM980\\63x_HumanBrain_Cerebellum_P62_LC3B_Map2a_Dapi_CerebellarCortex_GranularLayer01.czi\n"
     ]
    }
   ],
   "source": [
    "czi_viewer.load_zoom(fnames[0], composite=True, name='PkeyWeapons')"
   ]
  },
  {
   "cell_type": "code",
   "execution_count": 9,
   "metadata": {},
   "outputs": [
    {
     "ename": "TypeError",
     "evalue": "_amax() got an unexpected keyword argument 'keep_dims'",
     "output_type": "error",
     "traceback": [
      "\u001b[1;31m---------------------------------------------------------------------------\u001b[0m",
      "\u001b[1;31mTypeError\u001b[0m                                 Traceback (most recent call last)",
      "Cell \u001b[1;32mIn[9], line 1\u001b[0m\n\u001b[1;32m----> 1\u001b[0m \u001b[43mczi_viewer\u001b[49m\u001b[38;5;241;43m.\u001b[39;49m\u001b[43mz_project\u001b[49m\u001b[43m(\u001b[49m\u001b[43m)\u001b[49m\n",
      "File \u001b[1;32mu:\\smc\\public\\SMC\\napari_plugins\\napari-cziviewer\\src\\napari_cziviewer\\_cziviewer.py:224\u001b[0m, in \u001b[0;36mCziViewer.z_project\u001b[1;34m(self)\u001b[0m\n\u001b[0;32m    222\u001b[0m shape \u001b[38;5;241m=\u001b[39m \u001b[38;5;28mself\u001b[39m\u001b[38;5;241m.\u001b[39mviewer\u001b[38;5;241m.\u001b[39mlayers[current_layer]\u001b[38;5;241m.\u001b[39mdata\u001b[38;5;241m.\u001b[39mshape[\u001b[38;5;241m0\u001b[39m:\u001b[38;5;241m-\u001b[39m\u001b[38;5;241m2\u001b[39m]\n\u001b[0;32m    223\u001b[0m channel_axis \u001b[38;5;241m=\u001b[39m np\u001b[38;5;241m.\u001b[39margmax(shape)\n\u001b[1;32m--> 224\u001b[0m \u001b[38;5;28mself\u001b[39m\u001b[38;5;241m.\u001b[39mviewer\u001b[38;5;241m.\u001b[39mlayers[current_layer]\u001b[38;5;241m.\u001b[39mdata \u001b[38;5;241m=\u001b[39m \u001b[38;5;28;43mself\u001b[39;49m\u001b[38;5;241;43m.\u001b[39;49m\u001b[43mviewer\u001b[49m\u001b[38;5;241;43m.\u001b[39;49m\u001b[43mlayers\u001b[49m\u001b[43m[\u001b[49m\u001b[43mcurrent_layer\u001b[49m\u001b[43m]\u001b[49m\u001b[38;5;241;43m.\u001b[39;49m\u001b[43mdata\u001b[49m\u001b[38;5;241;43m.\u001b[39;49m\u001b[43mmax\u001b[49m\u001b[43m(\u001b[49m\u001b[43maxis\u001b[49m\u001b[38;5;241;43m=\u001b[39;49m\u001b[43mchannel_axis\u001b[49m\u001b[43m,\u001b[49m\u001b[43m \u001b[49m\u001b[43mkeep_dims\u001b[49m\u001b[38;5;241;43m=\u001b[39;49m\u001b[38;5;28;43;01mTrue\u001b[39;49;00m\u001b[43m)\u001b[49m\n",
      "\u001b[1;31mTypeError\u001b[0m: _amax() got an unexpected keyword argument 'keep_dims'"
     ]
    }
   ],
   "source": [
    "czi_viewer.z_project()"
   ]
  },
  {
   "cell_type": "code",
   "execution_count": 22,
   "metadata": {},
   "outputs": [
    {
     "data": {
      "text/plain": [
       "(5, 48, 1908, 1908)"
      ]
     },
     "execution_count": 22,
     "metadata": {},
     "output_type": "execute_result"
    }
   ],
   "source": [
    "viewer.layers[-1].data.shape"
   ]
  },
  {
   "cell_type": "code",
   "execution_count": 23,
   "metadata": {},
   "outputs": [
    {
     "name": "stderr",
     "output_type": "stream",
     "text": [
      "c:\\Users\\smc\\AppData\\Local\\miniforge3\\envs\\napari\\lib\\site-packages\\napari\\_vispy\\layers\\image.py:274: UserWarning: data shape (35363, 43533) exceeds GL_MAX_TEXTURE_SIZE 32768 in at least one axis and will be downsampled. Rendering is currently in 2D mode.\n",
      "  warnings.warn(\n"
     ]
    }
   ],
   "source": [
    "viewer.layers[-1].data = viewer.layers[-1].data.max(axis=1)"
   ]
  },
  {
   "cell_type": "code",
   "execution_count": 15,
   "metadata": {},
   "outputs": [
    {
     "data": {
      "text/plain": [
       "(5, 1, 1908, 1908)"
      ]
     },
     "execution_count": 15,
     "metadata": {},
     "output_type": "execute_result"
    }
   ],
   "source": [
    "viewer.layers[-1].data.shape"
   ]
  },
  {
   "cell_type": "markdown",
   "metadata": {},
   "source": [
    "If you make a shapes with a line tool, the following will measure distance"
   ]
  },
  {
   "cell_type": "markdown",
   "metadata": {},
   "source": [
    "pts = viewer.layers[-1].data[-1]\n",
    "distance = np.linalg.norm(pts[0]-pts[1])\n",
    "distance * viewer.layers[0].scale[-1]"
   ]
  },
  {
   "cell_type": "code",
   "execution_count": 6,
   "metadata": {},
   "outputs": [
    {
     "name": "stdout",
     "output_type": "stream",
     "text": [
      "S:\\micro\\ksi\\rb2676\\2023_HumanBrain_Map2A_Dapi_LC3B_P62_BrainSlices\\Human20240110_LSM980_FinalDataCollection\\cjw/63x_HumanBrain_Cerebellum_P62_LC3B_Map2a_DAPI_CerebellarCortex_Tiled_Fused.tif\n"
     ]
    },
    {
     "name": "stderr",
     "output_type": "stream",
     "text": [
      "c:\\Users\\smc\\AppData\\Local\\miniforge3\\envs\\napari\\lib\\site-packages\\napari\\_vispy\\layers\\image.py:274: UserWarning: data shape (35363, 43533) exceeds GL_MAX_TEXTURE_SIZE 32768 in at least one axis and will be downsampled. Rendering is currently in 2D mode.\n",
      "  warnings.warn(\n"
     ]
    }
   ],
   "source": [
    "fname = '63x_HumanBrain_Cerebellum_P62_LC3B_Map2a_DAPI_CerebellarCortex_Tiled_Fused.tif'\n",
    "czi_viewer.load_zoom_stitched(r'S:\\micro\\ksi\\rb2676\\2023_HumanBrain_Map2A_Dapi_LC3B_P62_BrainSlices\\Human20240110_LSM980_FinalDataCollection\\cjw' + '/' + fname)"
   ]
  },
  {
   "cell_type": "code",
   "execution_count": 21,
   "metadata": {},
   "outputs": [],
   "source": [
    "current_layer = viewer.layers.selection.active.name\n",
    "\n",
    "associated_layers = []\n",
    "if (current_layer[0] == 'C') & (current_layer[2] == '_'):\n",
    "    subname = current_layer.split('_')[1]\n",
    "    for layer in viewer.layers:\n",
    "        if subname in layer.name:\n",
    "            associated_layers.append(layer)\n",
    "    for layer in associated_layers:\n",
    "        if len(layer.data.shape)>2:\n",
    "            layer.data = layer.data.max(axis=0)\n",
    "else:\n",
    "    shape = viewer.layers[current_layer].data.shape[0:-2]\n",
    "    channel_axis = np.argmax(shape)\n",
    "    viewer.layers[current_layer].data = viewer.layers[current_layer].data.max(axis=channel_axis)"
   ]
  },
  {
   "cell_type": "markdown",
   "metadata": {},
   "source": [
    "# End testing"
   ]
  },
  {
   "cell_type": "code",
   "execution_count": 7,
   "metadata": {},
   "outputs": [
    {
     "name": "stdout",
     "output_type": "stream",
     "text": [
      "S:\\micro\\ksi\\rb2676\\2023_HumanBrain_Map2A_Dapi_LC3B_P62_BrainSlices\\Human20240110_LSM980_FinalDataCollection\\Cerebellum_LSM980\\63x_HumanBrain_Cerebellum_P62_LC3B_Map2a_Dapi_CerebellarCortex_GranularLayer01.czi\n",
      "[44012.156 52354.793]\n"
     ]
    }
   ],
   "source": [
    "czi_viewer.load_zoom(fnames[0], composite=True, name='HokeyWeapons')"
   ]
  },
  {
   "cell_type": "code",
   "execution_count": 8,
   "metadata": {},
   "outputs": [
    {
     "name": "stdout",
     "output_type": "stream",
     "text": [
      "S:\\micro\\ksi\\rb2676\\2023_HumanBrain_Map2A_Dapi_LC3B_P62_BrainSlices\\Human20240110_LSM980_FinalDataCollection\\Cerebellum_LSM980\\63x_HumanBrain_Cerebellum_P62_LC3B_Map2a_Dapi_CerebellarCortex_GranularLayer01.czi\n",
      "[44012.156 52354.793]\n",
      "S:\\micro\\ksi\\rb2676\\2023_HumanBrain_Map2A_Dapi_LC3B_P62_BrainSlices\\Human20240110_LSM980_FinalDataCollection\\Cerebellum_LSM980\\63x_HumanBrain_Cerebellum_P62_LC3B_Map2a_Dapi_CerebellarCortex_GranularLayer02.czi\n",
      "[44075.845 52702.378]\n",
      "S:\\micro\\ksi\\rb2676\\2023_HumanBrain_Map2A_Dapi_LC3B_P62_BrainSlices\\Human20240110_LSM980_FinalDataCollection\\Cerebellum_LSM980\\63x_HumanBrain_Cerebellum_P62_LC3B_Map2a_Dapi_CerebellarCortex_PurkinjieProjections01.czi\n",
      "[44241.582 52208.222]\n",
      "S:\\micro\\ksi\\rb2676\\2023_HumanBrain_Map2A_Dapi_LC3B_P62_BrainSlices\\Human20240110_LSM980_FinalDataCollection\\Cerebellum_LSM980\\63x_HumanBrain_Cerebellum_P62_LC3B_Map2a_Dapi_CerebellarCortex_PurkinjieSoma01.czi\n",
      "[44394.447 52280.42 ]\n"
     ]
    }
   ],
   "source": [
    "for f in fnames[0:4]:\n",
    "    czi_viewer.load_zoom(f, composite=True)"
   ]
  },
  {
   "cell_type": "code",
   "execution_count": 8,
   "metadata": {},
   "outputs": [
    {
     "name": "stderr",
     "output_type": "stream",
     "text": [
      "c:\\Users\\smc\\AppData\\Local\\miniforge3\\envs\\napari\\lib\\site-packages\\napari\\_vispy\\layers\\image.py:274: UserWarning: data shape (35363, 43533) exceeds GL_MAX_TEXTURE_SIZE 32768 in at least one axis and will be downsampled. Rendering is currently in 2D mode.\n",
      "  warnings.warn(\n"
     ]
    }
   ],
   "source": [
    "current_layer = viewer.layers.selection.active.name\n",
    "czi_viewer.focus_on(viewer.layers[current_layer])"
   ]
  },
  {
   "cell_type": "code",
   "execution_count": null,
   "metadata": {},
   "outputs": [],
   "source": []
  },
  {
   "cell_type": "code",
   "execution_count": 19,
   "metadata": {},
   "outputs": [],
   "source": []
  },
  {
   "cell_type": "code",
   "execution_count": null,
   "metadata": {},
   "outputs": [],
   "source": []
  }
 ],
 "metadata": {
  "kernelspec": {
   "display_name": "napari",
   "language": "python",
   "name": "python3"
  },
  "language_info": {
   "codemirror_mode": {
    "name": "ipython",
    "version": 3
   },
   "file_extension": ".py",
   "mimetype": "text/x-python",
   "name": "python",
   "nbconvert_exporter": "python",
   "pygments_lexer": "ipython3",
   "version": "3.10.13"
  }
 },
 "nbformat": 4,
 "nbformat_minor": 2
}
